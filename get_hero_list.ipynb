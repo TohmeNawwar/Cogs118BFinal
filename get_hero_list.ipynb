{
 "cells": [
  {
   "cell_type": "code",
   "execution_count": 20,
   "id": "6f279480",
   "metadata": {},
   "outputs": [],
   "source": [
    "import requests\n",
    "import numpy as np\n",
    "import json"
   ]
  },
  {
   "cell_type": "code",
   "execution_count": 2,
   "id": "14922dd8",
   "metadata": {},
   "outputs": [],
   "source": [
    "key = \"Deleted\""
   ]
  },
  {
   "cell_type": "code",
   "execution_count": 3,
   "id": "9bb4ba8a",
   "metadata": {},
   "outputs": [],
   "source": [
    "herolist = requests.get('http://api.steampowered.com/IEconDOTA2_570/GetHeroes/v1?key=' + key).json()['result']['heroes']"
   ]
  },
  {
   "cell_type": "code",
   "execution_count": 15,
   "id": "94a43213",
   "metadata": {},
   "outputs": [],
   "source": [
    "heroes = [None] * 122\n",
    "for i in range(122):\n",
    "    heroes[i] = herolist[i]['name'].split('hero_')[-1]"
   ]
  },
  {
   "cell_type": "code",
   "execution_count": 22,
   "id": "29c04b12",
   "metadata": {},
   "outputs": [],
   "source": [
    "with open('hero_list.json', 'w') as hero_list:\n",
    "    json.dump(heroes, hero_list)"
   ]
  }
 ],
 "metadata": {
  "kernelspec": {
   "display_name": "Python 3 (ipykernel)",
   "language": "python",
   "name": "python3"
  },
  "language_info": {
   "codemirror_mode": {
    "name": "ipython",
    "version": 3
   },
   "file_extension": ".py",
   "mimetype": "text/x-python",
   "name": "python",
   "nbconvert_exporter": "python",
   "pygments_lexer": "ipython3",
   "version": "3.9.7"
  }
 },
 "nbformat": 4,
 "nbformat_minor": 5
}
