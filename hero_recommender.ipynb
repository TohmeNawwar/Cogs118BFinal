{
 "cells": [
  {
   "cell_type": "code",
   "execution_count": 122,
   "id": "597e561a",
   "metadata": {},
   "outputs": [],
   "source": [
    "import pandas as pd\n",
    "import numpy as np\n",
    "import json\n",
    "import random"
   ]
  },
  {
   "cell_type": "markdown",
   "id": "a770ef97",
   "metadata": {},
   "source": [
    "# Goal: Pick hero to maximize team's win % relative to what heroes have been picked and what heroes may be picked on each team"
   ]
  },
  {
   "cell_type": "code",
   "execution_count": 123,
   "id": "aeb689bb",
   "metadata": {},
   "outputs": [],
   "source": [
    "with open('test.json') as dataset, open('hero_list.json') as herolist:\n",
    "    data = json.load(dataset)\n",
    "    heroes = json.load(herolist)"
   ]
  },
  {
   "cell_type": "code",
   "execution_count": 124,
   "id": "5aaed5dc",
   "metadata": {},
   "outputs": [],
   "source": [
    "withDB = pd.DataFrame(index = heroes, columns = heroes)\n",
    "vsDB = pd.DataFrame(index = heroes, columns = heroes)"
   ]
  },
  {
   "cell_type": "code",
   "execution_count": 125,
   "id": "453f3566",
   "metadata": {},
   "outputs": [],
   "source": [
    "for hero in heroes:\n",
    "    for other in heroes:\n",
    "        withDB[hero][other] = data[hero]['winrate_with'][other]\n",
    "        vsDB[hero][other] = data[hero]['winrate_vs'][other]"
   ]
  },
  {
   "cell_type": "code",
   "execution_count": 126,
   "id": "66345fd6",
   "metadata": {},
   "outputs": [],
   "source": [
    "def pick_hero(heroesBanned, alliedHeroes, enemyHeroes, herolist=heroes):\n",
    "    \n",
    "    #unpickable heroes\n",
    "    unpickable = heroesBanned + alliedHeroes + enemyHeroes\n",
    "    # list of pickable heroes\n",
    "    heroes = [hero for hero in herolist if hero not in unpickable]\n",
    "    # ratio to determine how important considering unseen enemy heroes is\n",
    "    unseen_factor = (1 - (len(enemyHeroes)/5))\n",
    "    # array to store top 5 hero choices\n",
    "    top_five = []\n",
    "    \n",
    "    # find top 5 heroes based on currently seen picks/bans\n",
    "    for hero in heroes:\n",
    "        \n",
    "        # hero compatability with/vs seen picks\n",
    "        compat = 0\n",
    "        # sort top 5 heroes by compatibility\n",
    "        top_five.sort(key=sort_key)\n",
    "        \n",
    "        # find current heroes compat\n",
    "        for other in alliedHeroes:\n",
    "            compat += withDB[hero][other]\n",
    "        for other in enemyHeroes:\n",
    "            compat += vsDB[hero][other]\n",
    "        compat = compat/len(alliedHeroes + enemyHeroes)\n",
    "        \n",
    "        # add hero to top five if less than 5 heroes in list\n",
    "        if(len(top_five) < 5):\n",
    "            top_five.append([hero, compat])\n",
    "        # replace least compatible hero with current hero if more compatible\n",
    "        elif(top_five[0][1] < compat):\n",
    "            top_five[0] = [hero, compat]\n",
    "    \n",
    "    # sort top 5 heroes based on remaining enemy picks possible\n",
    "    for hero in top_five:\n",
    "        \n",
    "        # winrate of hero against potential enemy heroes\n",
    "        unseen_wr = 0\n",
    "        # number of enemy heroes counted\n",
    "        count = 0\n",
    "\n",
    "        # find winrate against unseen heroes\n",
    "        for other in heroes:\n",
    "            if(hero[0] != other):\n",
    "                unseen_wr += vsDB[hero[0]][other]\n",
    "                count += 1\n",
    "        unseen_wr = unseen_wr/count\n",
    "        \n",
    "        # find overall winrate scaling value of unseen heroes by number of unseen enemy heroes\n",
    "        hero[1] = (1-unseen_factor)*hero[1] + unseen_wr*unseen_factor\n",
    "        \n",
    "    # sort top 5 heroes\n",
    "    top_five.sort(key=sort_key)\n",
    "    \n",
    "    # return top 5 hero suggestions\n",
    "    return top_five"
   ]
  },
  {
   "cell_type": "markdown",
   "id": "9b036962",
   "metadata": {},
   "source": [
    "## Test1"
   ]
  },
  {
   "cell_type": "code",
   "execution_count": 127,
   "id": "b94e8923",
   "metadata": {},
   "outputs": [
    {
     "data": {
      "text/plain": [
       "[['zuus', 0.5564874741174454],\n",
       " ['tinker', 0.5574540844298932],\n",
       " ['jakiro', 0.5590434108279668],\n",
       " ['drow_ranger', 0.5661084256109907],\n",
       " ['enigma', 0.5751904169556304]]"
      ]
     },
     "execution_count": 127,
     "metadata": {},
     "output_type": "execute_result"
    }
   ],
   "source": [
    "allies = ['bane', 'queenofpain', 'centaur', 'shadow_shaman']\n",
    "enemies = ['crystal_maiden', 'mirana', 'beastmaster', 'lina']\n",
    "banned = []\n",
    "pick_hero(banned, allies, enemies)"
   ]
  },
  {
   "cell_type": "markdown",
   "id": "57f2d6be",
   "metadata": {},
   "source": [
    "## Test2"
   ]
  },
  {
   "cell_type": "code",
   "execution_count": 128,
   "id": "72bf23b4",
   "metadata": {},
   "outputs": [
    {
     "data": {
      "text/plain": [
       "[['bloodseeker', 0.5474202552614195],\n",
       " ['necrolyte', 0.5492343938370623],\n",
       " ['tinker', 0.5577649756774884],\n",
       " ['jakiro', 0.5592497055632166],\n",
       " ['drow_ranger', 0.5663689768991375]]"
      ]
     },
     "execution_count": 128,
     "metadata": {},
     "output_type": "execute_result"
    }
   ],
   "source": [
    "allies = ['bane', 'queenofpain', 'centaur', 'shadow_shaman']\n",
    "enemies = ['crystal_maiden', 'mirana', 'beastmaster', 'lina']\n",
    "banned = ['zuus', 'enigma']\n",
    "pick_hero(banned, allies, enemies)"
   ]
  },
  {
   "cell_type": "markdown",
   "id": "903cf8d6",
   "metadata": {},
   "source": [
    "## Test3"
   ]
  },
  {
   "cell_type": "code",
   "execution_count": 129,
   "id": "ef6c008a",
   "metadata": {},
   "outputs": [
    {
     "data": {
      "text/plain": [
       "[['visage', 0.5413207338115444],\n",
       " ['silencer', 0.5454025744835254],\n",
       " ['huskar', 0.5471180941629028],\n",
       " ['abaddon', 0.5486170493459407],\n",
       " ['dazzle', 0.5489519176716043]]"
      ]
     },
     "execution_count": 129,
     "metadata": {},
     "output_type": "execute_result"
    }
   ],
   "source": [
    "allies = ['crystal_maiden', 'mirana', 'beastmaster', 'lina']\n",
    "enemies = ['bane', 'queenofpain', 'centaur', 'shadow_shaman']\n",
    "banned = []\n",
    "pick_hero(banned, allies, enemies)"
   ]
  },
  {
   "cell_type": "markdown",
   "id": "4b399d36",
   "metadata": {},
   "source": [
    "## Test4"
   ]
  },
  {
   "cell_type": "code",
   "execution_count": 130,
   "id": "bceb1457",
   "metadata": {},
   "outputs": [
    {
     "name": "stdout",
     "output_type": "stream",
     "text": [
      "banned heroes: ['bounty_hunter', 'meepo', 'dark_willow', 'arc_warden', 'tinker', 'elder_titan', 'pugna', 'puck', 'treant', 'dazzle']\n"
     ]
    },
    {
     "data": {
      "text/plain": [
       "[['visage', 0.5418125819298584],\n",
       " ['drow_ranger', 0.5431126356698976],\n",
       " ['silencer', 0.5454322320031365],\n",
       " ['huskar', 0.5470393242679613],\n",
       " ['abaddon', 0.5489247855538026]]"
      ]
     },
     "execution_count": 130,
     "metadata": {},
     "output_type": "execute_result"
    }
   ],
   "source": [
    "allies = ['crystal_maiden', 'mirana', 'beastmaster', 'lina']\n",
    "enemies = ['bane', 'queenofpain', 'centaur', 'shadow_shaman']\n",
    "banned = random.sample([hero for hero in heroes if hero not in (allies + enemies)], 10)\n",
    "print('banned heroes: ' + str(banned))\n",
    "pick_hero(banned, allies, enemies)"
   ]
  }
 ],
 "metadata": {
  "kernelspec": {
   "display_name": "Python 3 (ipykernel)",
   "language": "python",
   "name": "python3"
  },
  "language_info": {
   "codemirror_mode": {
    "name": "ipython",
    "version": 3
   },
   "file_extension": ".py",
   "mimetype": "text/x-python",
   "name": "python",
   "nbconvert_exporter": "python",
   "pygments_lexer": "ipython3",
   "version": "3.9.7"
  }
 },
 "nbformat": 4,
 "nbformat_minor": 5
}
